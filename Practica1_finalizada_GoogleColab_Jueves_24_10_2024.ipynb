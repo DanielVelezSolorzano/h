{
  "nbformat": 4,
  "nbformat_minor": 0,
  "metadata": {
    "colab": {
      "provenance": [],
      "name": "Practica2_GoogleColab_Jueves_24/10/2024.ipynb",
      "authorship_tag": "ABX9TyOG1JD+MF3pLw+Y00U2VIZw",
      "include_colab_link": true
    },
    "kernelspec": {
      "name": "python3",
      "display_name": "Python 3"
    },
    "language_info": {
      "name": "python"
    }
  },
  "cells": [
    {
      "cell_type": "markdown",
      "metadata": {
        "id": "view-in-github",
        "colab_type": "text"
      },
      "source": [
        "<a href=\"https://colab.research.google.com/github/DanielVelezSolorzano/h/blob/main/Practica1_finalizada_GoogleColab_Jueves_24_10_2024.ipynb\" target=\"_parent\"><img src=\"https://colab.research.google.com/assets/colab-badge.svg\" alt=\"Open In Colab\"/></a>"
      ]
    },
    {
      "cell_type": "code",
      "execution_count": null,
      "metadata": {
        "colab": {
          "base_uri": "https://localhost:8080/"
        },
        "id": "_Kb6G2qsoq8X",
        "outputId": "a7d708e6-5dc0-46c5-b6fd-bbee3bbdc963"
      },
      "outputs": [
        {
          "output_type": "stream",
          "name": "stdout",
          "text": [
            "3.10.12 (main, Sep 11 2024, 15:47:36) [GCC 11.4.0]\n"
          ]
        }
      ],
      "source": [
        "import sys\n",
        "print(sys.version)"
      ]
    },
    {
      "cell_type": "code",
      "source": [],
      "metadata": {
        "id": "TuasNdm4xtZj"
      },
      "execution_count": null,
      "outputs": []
    },
    {
      "cell_type": "code",
      "source": [
        "numero=5;\n",
        "tmp1=\"Daniel\"\n",
        "print(numero)\n",
        "print(f\"Mi nombre es {tmp1}\")\n",
        "print(numero+5)\n",
        "print(numero-3)\n",
        "print(numero*3)\n",
        "print(numero/3)\n",
        "print(numero%3)\n",
        "print(numero**3)\n",
        "numero *=2\n",
        "print(numero)\n"
      ],
      "metadata": {
        "colab": {
          "base_uri": "https://localhost:8080/"
        },
        "id": "S5LN3vjNsgjG",
        "outputId": "ab0c3a30-290d-4033-a687-93433a3bd302"
      },
      "execution_count": null,
      "outputs": [
        {
          "output_type": "stream",
          "name": "stdout",
          "text": [
            "5\n",
            "Mi nombre es Daniel\n",
            "10\n",
            "2\n",
            "15\n",
            "1.6666666666666667\n",
            "2\n",
            "125\n",
            "10\n"
          ]
        }
      ]
    },
    {
      "cell_type": "code",
      "source": [
        "t=True\n",
        "f=False\n",
        "print(type(t))\n",
        "print(t and f)\n",
        "print(t or f)\n",
        "print(not t)\n",
        "print(t != f)"
      ],
      "metadata": {
        "colab": {
          "base_uri": "https://localhost:8080/"
        },
        "id": "uF3o4P3AvnLu",
        "outputId": "63cd3843-3cbb-4183-8124-c0a52c2869b8"
      },
      "execution_count": null,
      "outputs": [
        {
          "output_type": "stream",
          "name": "stdout",
          "text": [
            "<class 'bool'>\n",
            "False\n",
            "True\n",
            "False\n",
            "True\n"
          ]
        }
      ]
    },
    {
      "cell_type": "code",
      "source": [
        "aux1='hello'\n",
        "aux2='world'\n",
        "print(aux1+aux2)\n",
        "print(aux1*2)\n",
        "print(aux1.capitalize())\n",
        "print(aux1.upper())\n",
        "aux3='DANIEL'\n",
        "print(aux3.lower())\n",
        "print(aux1.rjust(7))\n",
        "print(len(aux1))"
      ],
      "metadata": {
        "colab": {
          "base_uri": "https://localhost:8080/"
        },
        "id": "HUfvHr28wfLT",
        "outputId": "975ee635-b5dd-47cf-9cc7-faeb7414f8ca"
      },
      "execution_count": null,
      "outputs": [
        {
          "output_type": "stream",
          "name": "stdout",
          "text": [
            "helloworld\n",
            "hellohello\n",
            "Hello\n",
            "HELLO\n",
            "daniel\n",
            "  hello\n",
            "5\n"
          ]
        }
      ]
    },
    {
      "cell_type": "code",
      "source": [
        "aux2=list()\n",
        "aux2.append(4)\n",
        "aux2.append(\"Daniel\")\n",
        "aux2.append(True)\n",
        "print(aux2)\n",
        "#print(aux2[0])\n",
        "#print(aux2[1])\n",
        "#print(aux2[2])\n",
        "print('***************')\n",
        "aux2[1]='Daniel'\n",
        "print(aux2)\n",
        "aux3=[1,2,3,'Daniel',True,False]\n",
        "print(aux3)\n",
        "aux3.pop()\n",
        "\n"
      ],
      "metadata": {
        "colab": {
          "base_uri": "https://localhost:8080/"
        },
        "id": "HjM0VJO4yLvw",
        "outputId": "0868dc99-64fd-470e-b6d2-9fe027218390"
      },
      "execution_count": null,
      "outputs": [
        {
          "output_type": "stream",
          "name": "stdout",
          "text": [
            "[4, 'Daniel', True]\n",
            "***************\n",
            "[4, 'Daniel', True]\n",
            "[1, 2, 3, 'Daniel', True, False]\n"
          ]
        },
        {
          "output_type": "execute_result",
          "data": {
            "text/plain": [
              "False"
            ]
          },
          "metadata": {},
          "execution_count": 16
        }
      ]
    },
    {
      "cell_type": "code",
      "source": [
        "tmp1=list(range(100))\n",
        "for x in tmp1:\n",
        "    print(f\"El valor es: {x}\")\n"
      ],
      "metadata": {
        "colab": {
          "base_uri": "https://localhost:8080/"
        },
        "id": "23c_KIoq0Xzp",
        "outputId": "b9c4ddb1-b2fd-4413-8786-61a23e34108f"
      },
      "execution_count": null,
      "outputs": [
        {
          "output_type": "stream",
          "name": "stdout",
          "text": [
            "El valor es: 0\n",
            "El valor es: 1\n",
            "El valor es: 2\n",
            "El valor es: 3\n",
            "El valor es: 4\n",
            "El valor es: 5\n",
            "El valor es: 6\n",
            "El valor es: 7\n",
            "El valor es: 8\n",
            "El valor es: 9\n",
            "El valor es: 10\n",
            "El valor es: 11\n",
            "El valor es: 12\n",
            "El valor es: 13\n",
            "El valor es: 14\n",
            "El valor es: 15\n",
            "El valor es: 16\n",
            "El valor es: 17\n",
            "El valor es: 18\n",
            "El valor es: 19\n",
            "El valor es: 20\n",
            "El valor es: 21\n",
            "El valor es: 22\n",
            "El valor es: 23\n",
            "El valor es: 24\n",
            "El valor es: 25\n",
            "El valor es: 26\n",
            "El valor es: 27\n",
            "El valor es: 28\n",
            "El valor es: 29\n",
            "El valor es: 30\n",
            "El valor es: 31\n",
            "El valor es: 32\n",
            "El valor es: 33\n",
            "El valor es: 34\n",
            "El valor es: 35\n",
            "El valor es: 36\n",
            "El valor es: 37\n",
            "El valor es: 38\n",
            "El valor es: 39\n",
            "El valor es: 40\n",
            "El valor es: 41\n",
            "El valor es: 42\n",
            "El valor es: 43\n",
            "El valor es: 44\n",
            "El valor es: 45\n",
            "El valor es: 46\n",
            "El valor es: 47\n",
            "El valor es: 48\n",
            "El valor es: 49\n",
            "El valor es: 50\n",
            "El valor es: 51\n",
            "El valor es: 52\n",
            "El valor es: 53\n",
            "El valor es: 54\n",
            "El valor es: 55\n",
            "El valor es: 56\n",
            "El valor es: 57\n",
            "El valor es: 58\n",
            "El valor es: 59\n",
            "El valor es: 60\n",
            "El valor es: 61\n",
            "El valor es: 62\n",
            "El valor es: 63\n",
            "El valor es: 64\n",
            "El valor es: 65\n",
            "El valor es: 66\n",
            "El valor es: 67\n",
            "El valor es: 68\n",
            "El valor es: 69\n",
            "El valor es: 70\n",
            "El valor es: 71\n",
            "El valor es: 72\n",
            "El valor es: 73\n",
            "El valor es: 74\n",
            "El valor es: 75\n",
            "El valor es: 76\n",
            "El valor es: 77\n",
            "El valor es: 78\n",
            "El valor es: 79\n",
            "El valor es: 80\n",
            "El valor es: 81\n",
            "El valor es: 82\n",
            "El valor es: 83\n",
            "El valor es: 84\n",
            "El valor es: 85\n",
            "El valor es: 86\n",
            "El valor es: 87\n",
            "El valor es: 88\n",
            "El valor es: 89\n",
            "El valor es: 90\n",
            "El valor es: 91\n",
            "El valor es: 92\n",
            "El valor es: 93\n",
            "El valor es: 94\n",
            "El valor es: 95\n",
            "El valor es: 96\n",
            "El valor es: 97\n",
            "El valor es: 98\n",
            "El valor es: 99\n"
          ]
        }
      ]
    },
    {
      "cell_type": "code",
      "source": [
        "listaAnimales=list()\n",
        "listaAnimales.append('monkey')\n",
        "listaAnimales.append('dog')\n",
        "listaAnimales.append('cat')\n",
        "listaAnimales.append('elephant')\n",
        "#print(listaAnimales)\n",
        "tmp1=listaAnimales[:3]\n",
        "print(\"Animales %s\" %(tmp1))\n",
        "\n",
        "tmp2=listaAnimales[2:]\n",
        "print(\"Animales %s\" %(tmp2))\n",
        "\n",
        "tmp3=listaAnimales[2:4]\n",
        "print(\"Animales %s\" %(tmp3))\n",
        "\n",
        "listaAnimales[2:4]=['bear','cow']\n",
        "print(listaAnimales)"
      ],
      "metadata": {
        "id": "3Dz3BqLJxvN6",
        "outputId": "acdac4f1-64a7-46aa-a852-52d8297bbac3",
        "colab": {
          "base_uri": "https://localhost:8080/"
        }
      },
      "execution_count": 8,
      "outputs": [
        {
          "output_type": "stream",
          "name": "stdout",
          "text": [
            "Animales ['monkey', 'dog', 'cat']\n",
            "Animales ['cat', 'elephant']\n",
            "Animales ['cat', 'elephant']\n",
            "['monkey', 'dog', 'bear', 'cow']\n"
          ]
        }
      ]
    },
    {
      "cell_type": "code",
      "source": [
        "for numero,animal in enumerate(listaAnimales):\n",
        "    print('%d: %s' %(numero+1,animal))"
      ],
      "metadata": {
        "id": "I3VtgpcKzttE",
        "outputId": "de198ff2-caf8-4bd3-f259-7988424d75f5",
        "colab": {
          "base_uri": "https://localhost:8080/"
        }
      },
      "execution_count": 9,
      "outputs": [
        {
          "output_type": "stream",
          "name": "stdout",
          "text": [
            "1: monkey\n",
            "2: dog\n",
            "3: bear\n",
            "4: cow\n"
          ]
        }
      ]
    },
    {
      "cell_type": "code",
      "source": [
        "lista = list(range(51))\n",
        "listNumCuadrado = []\n",
        "for x in lista:\n",
        "    listNumCuadrado.append(x**2)\n",
        "print(listNumCuadrado)\n",
        "\n",
        "\n"
      ],
      "metadata": {
        "id": "r1QT0iDi1PnT",
        "outputId": "8e4211c0-d5fd-40d5-c23d-c1e741e1487e",
        "colab": {
          "base_uri": "https://localhost:8080/"
        }
      },
      "execution_count": 22,
      "outputs": [
        {
          "output_type": "stream",
          "name": "stdout",
          "text": [
            "[0, 1, 4, 9, 16, 25, 36, 49, 64, 81, 100, 121, 144, 169, 196, 225, 256, 289, 324, 361, 400, 441, 484, 529, 576, 625, 676, 729, 784, 841, 900, 961, 1024, 1089, 1156, 1225, 1296, 1369, 1444, 1521, 1600, 1681, 1764, 1849, 1936, 2025, 2116, 2209, 2304, 2401, 2500]\n"
          ]
        }
      ]
    },
    {
      "cell_type": "code",
      "source": [
        "listNunPa=[i for i in range(1,51) if i%2==0]\n",
        "print(listNunPa)\n",
        "ListNumIm=[i for i in range(1,51) if i%2==1]\n",
        "print(ListNumIm)"
      ],
      "metadata": {
        "id": "psG5kQEd3Usk",
        "outputId": "05c6a879-7ef3-462e-bef4-5f37d6efd229",
        "colab": {
          "base_uri": "https://localhost:8080/"
        }
      },
      "execution_count": 25,
      "outputs": [
        {
          "output_type": "stream",
          "name": "stdout",
          "text": [
            "[2, 4, 6, 8, 10, 12, 14, 16, 18, 20, 22, 24, 26, 28, 30, 32, 34, 36, 38, 40, 42, 44, 46, 48, 50]\n",
            "[1, 3, 5, 7, 9, 11, 13, 15, 17, 19, 21, 23, 25, 27, 29, 31, 33, 35, 37, 39, 41, 43, 45, 47, 49]\n"
          ]
        }
      ]
    },
    {
      "cell_type": "code",
      "source": [
        "for key in myDictionary:\n",
        "  print(myDictionary[key])"
      ],
      "metadata": {
        "id": "c4zrlUf_3utR",
        "outputId": "0240424d-2762-41b1-9cc0-a3b6d16ef3a9",
        "colab": {
          "base_uri": "https://localhost:8080/"
        }
      },
      "execution_count": 28,
      "outputs": [
        {
          "output_type": "stream",
          "name": "stdout",
          "text": [
            "cute\n",
            "small\n"
          ]
        }
      ]
    },
    {
      "cell_type": "code",
      "source": [
        "dictiCuadrado={'1':1,'2':4,'3':9,'4':16}\n",
        "print(dictiCuadrado)\n",
        "\n",
        "dictCuadrados={i:i**2 for i in listNumCuadrado}\n",
        "print(dictCuadrados)\n"
      ],
      "metadata": {
        "id": "AwRg4Hzk45i_",
        "outputId": "d8492c57-ffed-47d7-84e7-2fa59709fc7a",
        "colab": {
          "base_uri": "https://localhost:8080/"
        }
      },
      "execution_count": 36,
      "outputs": [
        {
          "output_type": "stream",
          "name": "stdout",
          "text": [
            "{'1': 1, '2': 4, '3': 9, '4': 16}\n",
            "{0: 0, 1: 1, 4: 16, 9: 81, 16: 256, 25: 625, 36: 1296, 49: 2401, 64: 4096, 81: 6561, 100: 10000, 121: 14641, 144: 20736, 169: 28561, 196: 38416, 225: 50625, 256: 65536, 289: 83521, 324: 104976, 361: 130321, 400: 160000, 441: 194481, 484: 234256, 529: 279841, 576: 331776, 625: 390625, 676: 456976, 729: 531441, 784: 614656, 841: 707281, 900: 810000, 961: 923521, 1024: 1048576, 1089: 1185921, 1156: 1336336, 1225: 1500625, 1296: 1679616, 1369: 1874161, 1444: 2085136, 1521: 2313441, 1600: 2560000, 1681: 2825761, 1764: 3111696, 1849: 3418801, 1936: 3748096, 2025: 4100625, 2116: 4477456, 2209: 4879681, 2304: 5308416, 2401: 5764801, 2500: 6250000}\n"
          ]
        }
      ]
    },
    {
      "cell_type": "code",
      "source": [
        "setElementos={'Monkey','Donkey','mouse'}\n",
        "print(setElementos)"
      ],
      "metadata": {
        "id": "IE4d9wpX64Do",
        "outputId": "5f504f2a-5f74-4639-e417-f43a804c5dfa",
        "colab": {
          "base_uri": "https://localhost:8080/"
        }
      },
      "execution_count": 37,
      "outputs": [
        {
          "output_type": "stream",
          "name": "stdout",
          "text": [
            "{'Monkey', 'Donkey', 'mouse'}\n"
          ]
        }
      ]
    },
    {
      "cell_type": "code",
      "source": [
        "print('Monkey' in setElementos)\n",
        "setElementos.add('bear')\n",
        "print(setElementos)\n",
        "setElementos.remove('Donkey')\n",
        "print(setElementos)"
      ],
      "metadata": {
        "id": "DzODxW8_7Slg",
        "outputId": "fa2a4049-a688-4a4e-9889-8b3791fb468a",
        "colab": {
          "base_uri": "https://localhost:8080/"
        }
      },
      "execution_count": 39,
      "outputs": [
        {
          "output_type": "stream",
          "name": "stdout",
          "text": [
            "True\n",
            "{'bear', 'Monkey', 'Donkey', 'mouse'}\n",
            "{'bear', 'Monkey', 'mouse'}\n"
          ]
        }
      ]
    },
    {
      "cell_type": "markdown",
      "source": [
        "FUNCIONES\n"
      ],
      "metadata": {
        "id": "pmYRGhlZ8269"
      }
    },
    {
      "cell_type": "code",
      "source": [
        "def suma(a, b):\n",
        "    return a + b\n",
        "\n",
        "def es_positivo_o_negativo(numero):\n",
        "    if numero > 0:\n",
        "        return \"positivo\"\n",
        "    elif numero < 0:\n",
        "        return \"negativo\"\n",
        "    else:\n",
        "        return \"cero\"\n",
        "\n",
        "tmp1 = 8\n",
        "tmp2 = 6\n",
        "\n",
        "resultado = suma(tmp1, tmp2)\n",
        "print(f'La suma es igual: {resultado}')\n",
        "\n",
        "estado = es_positivo_o_negativo(resultado)\n",
        "print(f'El resultado es: {estado}.')\n"
      ],
      "metadata": {
        "id": "9RIn561A84nG",
        "outputId": "8a705d5e-2462-4d4f-81d9-8b9c649a5448",
        "colab": {
          "base_uri": "https://localhost:8080/"
        }
      },
      "execution_count": 46,
      "outputs": [
        {
          "output_type": "stream",
          "name": "stdout",
          "text": [
            "La suma es igual: 14\n",
            "El resultado es: positivo.\n"
          ]
        }
      ]
    },
    {
      "cell_type": "code",
      "source": [
        "class SaludOs(object):\n",
        "    # Constructor\n",
        "    def __init__(self, name):\n",
        "        self.name = name\n",
        "        # print('Se ejecuta automaticamente')\n",
        "\n",
        "    def mensaje(self):\n",
        "        print('Hola', self.name)\n",
        "\n",
        "name1 = SaludOs('Daniel')\n",
        "# print(name1.name)\n",
        "name1.mensaje()\n",
        ""
      ],
      "metadata": {
        "id": "T4nUgYSN_Cvv",
        "outputId": "1fbd52b6-1009-46e4-dbcb-11ebd505262e",
        "colab": {
          "base_uri": "https://localhost:8080/"
        }
      },
      "execution_count": 54,
      "outputs": [
        {
          "output_type": "stream",
          "name": "stdout",
          "text": [
            "Hola Daniel\n"
          ]
        }
      ]
    },
    {
      "cell_type": "code",
      "source": [
        "class Calculadora:\n",
        "    def __init__(self):\n",
        "        pass\n",
        "\n",
        "    def sumar(self, a, b):\n",
        "        return a + b\n",
        "\n",
        "    def restar(self, a, b):\n",
        "        return a - b\n",
        "\n",
        "    def multiplicar(self, a, b):\n",
        "        return a * b\n",
        "\n",
        "    def dividir(self, a, b):\n",
        "        if b == 0:\n",
        "            return \"Error: División por cero.\"\n",
        "        return a / b\n",
        "\n",
        "# Ejemplo de uso\n",
        "calc = Calculadora()\n",
        "\n",
        "print(\"Suma:\", calc.sumar(5, 3))\n",
        "print(\"Resta:\", calc.restar(5, 3))\n",
        "print(\"Multiplicación:\", calc.multiplicar(5, 3))\n",
        "print(\"División:\", calc.dividir(5, 3))\n",
        "print(\"División por cero:\", calc.dividir(5, 0))"
      ],
      "metadata": {
        "id": "9aC-pDaFCSGd",
        "outputId": "6f968a07-071e-4694-fb3d-b3b2b66b6154",
        "colab": {
          "base_uri": "https://localhost:8080/"
        }
      },
      "execution_count": 60,
      "outputs": [
        {
          "output_type": "stream",
          "name": "stdout",
          "text": [
            "Suma: 8\n",
            "Resta: 2\n",
            "Multiplicación: 15\n",
            "División: 1.6666666666666667\n",
            "División por cero: Error: División por cero.\n"
          ]
        }
      ]
    },
    {
      "cell_type": "code",
      "source": [
        "class numeros(object):\n",
        "    def __init__(self, numero1, numero2):\n",
        "        self.numero1 = numero1\n",
        "        self.numero2 = numero2\n",
        "    def suma(self):\n",
        "        return self.numero1 + self.numero2\n",
        "    def resta(self):\n",
        "        return self.numero1 - self.numero2\n",
        "    def multiplicacion(self):\n",
        "        return self.numero1 * self.numero2\n",
        "    def division(self):\n",
        "        if self.numero2 == 0:\n",
        "            return \"Error: División por cero.\"\n",
        "        return self.numero1 / self.numero2\n",
        "# Ejemplo de uso\n",
        "problema1 = numeros(5, 3)\n",
        "print(problema1.suma())\n",
        "print(problema1.resta())\n",
        "print(problema1.multiplicacion())\n",
        "print(problema1.division())\n",
        "\n",
        ""
      ],
      "metadata": {
        "id": "sqqpJeheC5pd",
        "outputId": "79eef325-761b-40f7-f821-211bbfe8e37e",
        "colab": {
          "base_uri": "https://localhost:8080/"
        }
      },
      "execution_count": 64,
      "outputs": [
        {
          "output_type": "stream",
          "name": "stdout",
          "text": [
            "8\n",
            "2\n",
            "15\n",
            "1.6666666666666667\n"
          ]
        }
      ]
    },
    {
      "cell_type": "markdown",
      "source": [
        "funciones, clases,"
      ],
      "metadata": {
        "id": "fO-KfmWvD4s2"
      }
    }
  ]
}